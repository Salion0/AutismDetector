{
 "cells": [
  {
   "cell_type": "code",
   "execution_count": 4,
   "id": "8c6b5090",
   "metadata": {},
   "outputs": [],
   "source": [
    "import pandas as pd\n",
    "from matplotlib import pyplot as plt\n",
    "import seaborn as sns\n",
    "from scipy.stats import ttest_rel"
   ]
  },
  {
   "cell_type": "code",
   "execution_count": 6,
   "id": "5b526a5b",
   "metadata": {},
   "outputs": [],
   "source": [
    "df = pd.read_csv('Autism_Data.arff', na_values ='?',quotechar= \"'\")"
   ]
  },
  {
   "cell_type": "code",
   "execution_count": 7,
   "id": "3f69b583",
   "metadata": {
    "scrolled": false
   },
   "outputs": [
    {
     "data": {
      "text/plain": "     A1_Score  A2_Score  A3_Score  A4_Score  A5_Score  A6_Score  A7_Score  \\\n0           1         1         1         1         0         0         1   \n1           1         1         0         1         0         0         0   \n2           1         1         0         1         1         0         1   \n3           1         1         0         1         0         0         1   \n4           1         0         0         0         0         0         0   \n..        ...       ...       ...       ...       ...       ...       ...   \n699         0         1         0         1         1         0         1   \n700         1         0         0         0         0         0         0   \n701         1         0         1         1         1         0         1   \n702         1         0         0         1         1         0         1   \n703         1         0         1         1         1         0         1   \n\n     A8_Score  A9_Score  A10_Score  ...  gender       ethnicity jundice  \\\n0           1         0          0  ...       f  White-European      no   \n1           1         0          1  ...       m          Latino      no   \n2           1         1          1  ...       m          Latino     yes   \n3           1         0          1  ...       f  White-European      no   \n4           1         0          0  ...       f             NaN      no   \n..        ...       ...        ...  ...     ...             ...     ...   \n699         1         1          1  ...       f  White-European      no   \n700         1         0          1  ...       m        Hispanic      no   \n701         1         0          1  ...       f             NaN      no   \n702         0         1          1  ...       m     South Asian      no   \n703         1         1          1  ...       f  White-European      no   \n\n    austim  contry_of_res used_app_before result     age_desc relation  \\\n0       no  United States              no      6  18 and more     Self   \n1      yes         Brazil              no      5  18 and more     Self   \n2      yes          Spain              no      8  18 and more   Parent   \n3      yes  United States              no      6  18 and more     Self   \n4       no          Egypt              no      2  18 and more      NaN   \n..     ...            ...             ...    ...          ...      ...   \n699     no         Russia              no      7  18 and more     Self   \n700     no         Mexico              no      3  18 and more   Parent   \n701     no         Russia              no      7  18 and more      NaN   \n702     no       Pakistan              no      6  18 and more     Self   \n703     no         Cyprus              no      8  18 and more     Self   \n\n    Class/ASD  \n0          NO  \n1          NO  \n2         YES  \n3          NO  \n4          NO  \n..        ...  \n699       YES  \n700        NO  \n701       YES  \n702        NO  \n703       YES  \n\n[704 rows x 21 columns]",
      "text/html": "<div>\n<style scoped>\n    .dataframe tbody tr th:only-of-type {\n        vertical-align: middle;\n    }\n\n    .dataframe tbody tr th {\n        vertical-align: top;\n    }\n\n    .dataframe thead th {\n        text-align: right;\n    }\n</style>\n<table border=\"1\" class=\"dataframe\">\n  <thead>\n    <tr style=\"text-align: right;\">\n      <th></th>\n      <th>A1_Score</th>\n      <th>A2_Score</th>\n      <th>A3_Score</th>\n      <th>A4_Score</th>\n      <th>A5_Score</th>\n      <th>A6_Score</th>\n      <th>A7_Score</th>\n      <th>A8_Score</th>\n      <th>A9_Score</th>\n      <th>A10_Score</th>\n      <th>...</th>\n      <th>gender</th>\n      <th>ethnicity</th>\n      <th>jundice</th>\n      <th>austim</th>\n      <th>contry_of_res</th>\n      <th>used_app_before</th>\n      <th>result</th>\n      <th>age_desc</th>\n      <th>relation</th>\n      <th>Class/ASD</th>\n    </tr>\n  </thead>\n  <tbody>\n    <tr>\n      <th>0</th>\n      <td>1</td>\n      <td>1</td>\n      <td>1</td>\n      <td>1</td>\n      <td>0</td>\n      <td>0</td>\n      <td>1</td>\n      <td>1</td>\n      <td>0</td>\n      <td>0</td>\n      <td>...</td>\n      <td>f</td>\n      <td>White-European</td>\n      <td>no</td>\n      <td>no</td>\n      <td>United States</td>\n      <td>no</td>\n      <td>6</td>\n      <td>18 and more</td>\n      <td>Self</td>\n      <td>NO</td>\n    </tr>\n    <tr>\n      <th>1</th>\n      <td>1</td>\n      <td>1</td>\n      <td>0</td>\n      <td>1</td>\n      <td>0</td>\n      <td>0</td>\n      <td>0</td>\n      <td>1</td>\n      <td>0</td>\n      <td>1</td>\n      <td>...</td>\n      <td>m</td>\n      <td>Latino</td>\n      <td>no</td>\n      <td>yes</td>\n      <td>Brazil</td>\n      <td>no</td>\n      <td>5</td>\n      <td>18 and more</td>\n      <td>Self</td>\n      <td>NO</td>\n    </tr>\n    <tr>\n      <th>2</th>\n      <td>1</td>\n      <td>1</td>\n      <td>0</td>\n      <td>1</td>\n      <td>1</td>\n      <td>0</td>\n      <td>1</td>\n      <td>1</td>\n      <td>1</td>\n      <td>1</td>\n      <td>...</td>\n      <td>m</td>\n      <td>Latino</td>\n      <td>yes</td>\n      <td>yes</td>\n      <td>Spain</td>\n      <td>no</td>\n      <td>8</td>\n      <td>18 and more</td>\n      <td>Parent</td>\n      <td>YES</td>\n    </tr>\n    <tr>\n      <th>3</th>\n      <td>1</td>\n      <td>1</td>\n      <td>0</td>\n      <td>1</td>\n      <td>0</td>\n      <td>0</td>\n      <td>1</td>\n      <td>1</td>\n      <td>0</td>\n      <td>1</td>\n      <td>...</td>\n      <td>f</td>\n      <td>White-European</td>\n      <td>no</td>\n      <td>yes</td>\n      <td>United States</td>\n      <td>no</td>\n      <td>6</td>\n      <td>18 and more</td>\n      <td>Self</td>\n      <td>NO</td>\n    </tr>\n    <tr>\n      <th>4</th>\n      <td>1</td>\n      <td>0</td>\n      <td>0</td>\n      <td>0</td>\n      <td>0</td>\n      <td>0</td>\n      <td>0</td>\n      <td>1</td>\n      <td>0</td>\n      <td>0</td>\n      <td>...</td>\n      <td>f</td>\n      <td>NaN</td>\n      <td>no</td>\n      <td>no</td>\n      <td>Egypt</td>\n      <td>no</td>\n      <td>2</td>\n      <td>18 and more</td>\n      <td>NaN</td>\n      <td>NO</td>\n    </tr>\n    <tr>\n      <th>...</th>\n      <td>...</td>\n      <td>...</td>\n      <td>...</td>\n      <td>...</td>\n      <td>...</td>\n      <td>...</td>\n      <td>...</td>\n      <td>...</td>\n      <td>...</td>\n      <td>...</td>\n      <td>...</td>\n      <td>...</td>\n      <td>...</td>\n      <td>...</td>\n      <td>...</td>\n      <td>...</td>\n      <td>...</td>\n      <td>...</td>\n      <td>...</td>\n      <td>...</td>\n      <td>...</td>\n    </tr>\n    <tr>\n      <th>699</th>\n      <td>0</td>\n      <td>1</td>\n      <td>0</td>\n      <td>1</td>\n      <td>1</td>\n      <td>0</td>\n      <td>1</td>\n      <td>1</td>\n      <td>1</td>\n      <td>1</td>\n      <td>...</td>\n      <td>f</td>\n      <td>White-European</td>\n      <td>no</td>\n      <td>no</td>\n      <td>Russia</td>\n      <td>no</td>\n      <td>7</td>\n      <td>18 and more</td>\n      <td>Self</td>\n      <td>YES</td>\n    </tr>\n    <tr>\n      <th>700</th>\n      <td>1</td>\n      <td>0</td>\n      <td>0</td>\n      <td>0</td>\n      <td>0</td>\n      <td>0</td>\n      <td>0</td>\n      <td>1</td>\n      <td>0</td>\n      <td>1</td>\n      <td>...</td>\n      <td>m</td>\n      <td>Hispanic</td>\n      <td>no</td>\n      <td>no</td>\n      <td>Mexico</td>\n      <td>no</td>\n      <td>3</td>\n      <td>18 and more</td>\n      <td>Parent</td>\n      <td>NO</td>\n    </tr>\n    <tr>\n      <th>701</th>\n      <td>1</td>\n      <td>0</td>\n      <td>1</td>\n      <td>1</td>\n      <td>1</td>\n      <td>0</td>\n      <td>1</td>\n      <td>1</td>\n      <td>0</td>\n      <td>1</td>\n      <td>...</td>\n      <td>f</td>\n      <td>NaN</td>\n      <td>no</td>\n      <td>no</td>\n      <td>Russia</td>\n      <td>no</td>\n      <td>7</td>\n      <td>18 and more</td>\n      <td>NaN</td>\n      <td>YES</td>\n    </tr>\n    <tr>\n      <th>702</th>\n      <td>1</td>\n      <td>0</td>\n      <td>0</td>\n      <td>1</td>\n      <td>1</td>\n      <td>0</td>\n      <td>1</td>\n      <td>0</td>\n      <td>1</td>\n      <td>1</td>\n      <td>...</td>\n      <td>m</td>\n      <td>South Asian</td>\n      <td>no</td>\n      <td>no</td>\n      <td>Pakistan</td>\n      <td>no</td>\n      <td>6</td>\n      <td>18 and more</td>\n      <td>Self</td>\n      <td>NO</td>\n    </tr>\n    <tr>\n      <th>703</th>\n      <td>1</td>\n      <td>0</td>\n      <td>1</td>\n      <td>1</td>\n      <td>1</td>\n      <td>0</td>\n      <td>1</td>\n      <td>1</td>\n      <td>1</td>\n      <td>1</td>\n      <td>...</td>\n      <td>f</td>\n      <td>White-European</td>\n      <td>no</td>\n      <td>no</td>\n      <td>Cyprus</td>\n      <td>no</td>\n      <td>8</td>\n      <td>18 and more</td>\n      <td>Self</td>\n      <td>YES</td>\n    </tr>\n  </tbody>\n</table>\n<p>704 rows × 21 columns</p>\n</div>"
     },
     "execution_count": 7,
     "metadata": {},
     "output_type": "execute_result"
    }
   ],
   "source": [
    "df"
   ]
  },
  {
   "cell_type": "code",
   "execution_count": 5,
   "outputs": [],
   "source": [
    "df = df.rename(columns={'austim':'family member with PDD','jundice':'jaundice','contry_of_res':'country_of_res'})"
   ],
   "metadata": {
    "collapsed": false
   }
  },
  {
   "cell_type": "code",
   "execution_count": 6,
   "id": "41f1135e",
   "metadata": {
    "scrolled": false
   },
   "outputs": [
    {
     "name": "stdout",
     "output_type": "stream",
     "text": [
      "<class 'pandas.core.frame.DataFrame'>\n",
      "RangeIndex: 704 entries, 0 to 703\n",
      "Data columns (total 21 columns):\n",
      " #   Column                  Non-Null Count  Dtype  \n",
      "---  ------                  --------------  -----  \n",
      " 0   A1_Score                704 non-null    int64  \n",
      " 1   A2_Score                704 non-null    int64  \n",
      " 2   A3_Score                704 non-null    int64  \n",
      " 3   A4_Score                704 non-null    int64  \n",
      " 4   A5_Score                704 non-null    int64  \n",
      " 5   A6_Score                704 non-null    int64  \n",
      " 6   A7_Score                704 non-null    int64  \n",
      " 7   A8_Score                704 non-null    int64  \n",
      " 8   A9_Score                704 non-null    int64  \n",
      " 9   A10_Score               704 non-null    int64  \n",
      " 10  age                     702 non-null    float64\n",
      " 11  gender                  704 non-null    object \n",
      " 12  ethnicity               609 non-null    object \n",
      " 13  jaundice                704 non-null    object \n",
      " 14  family member with PDD  704 non-null    object \n",
      " 15  country_of_res          704 non-null    object \n",
      " 16  used_app_before         704 non-null    object \n",
      " 17  result                  704 non-null    int64  \n",
      " 18  age_desc                704 non-null    object \n",
      " 19  relation                609 non-null    object \n",
      " 20  Class/ASD               704 non-null    object \n",
      "dtypes: float64(1), int64(11), object(9)\n",
      "memory usage: 115.6+ KB\n"
     ]
    }
   ],
   "source": [
    "df.info()"
   ]
  },
  {
   "cell_type": "code",
   "execution_count": 7,
   "id": "be8b78d8",
   "metadata": {},
   "outputs": [],
   "source": [
    "#We drop used_app_before cause it is a useless attribute and it is not related to a patient medical or biological condition\n",
    "df.drop('used_app_before',axis=1,inplace=True)"
   ]
  },
  {
   "cell_type": "code",
   "execution_count": 8,
   "id": "5ae0610f",
   "metadata": {
    "scrolled": true
   },
   "outputs": [
    {
     "data": {
      "text/plain": "A1_Score                   0\nA2_Score                   0\nA3_Score                   0\nA4_Score                   0\nA5_Score                   0\nA6_Score                   0\nA7_Score                   0\nA8_Score                   0\nA9_Score                   0\nA10_Score                  0\nage                        2\ngender                     0\nethnicity                 95\njaundice                   0\nfamily member with PDD     0\ncountry_of_res             0\nresult                     0\nage_desc                   0\nrelation                  95\nClass/ASD                  0\ndtype: int64"
     },
     "execution_count": 8,
     "metadata": {},
     "output_type": "execute_result"
    }
   ],
   "source": [
    "#Count nan values\n",
    "df.isnull().sum()"
   ]
  },
  {
   "cell_type": "code",
   "execution_count": 9,
   "id": "34393b0e",
   "metadata": {
    "scrolled": true
   },
   "outputs": [
    {
     "data": {
      "text/plain": "White-European     233\nAsian              123\nMiddle Eastern      92\nBlack               43\nSouth Asian         36\nOthers              30\nLatino              20\nHispanic            13\nPasifika            12\nTurkish              6\nothers               1\nName: ethnicity, dtype: int64"
     },
     "execution_count": 9,
     "metadata": {},
     "output_type": "execute_result"
    }
   ],
   "source": [
    "df.ethnicity.value_counts()"
   ]
  },
  {
   "cell_type": "code",
   "execution_count": 10,
   "id": "e41967f2",
   "metadata": {
    "scrolled": true
   },
   "outputs": [
    {
     "data": {
      "text/plain": "     A1_Score  A2_Score  A3_Score  A4_Score  A5_Score  A6_Score  A7_Score  \\\n657         1         1         0         0         1         0         1   \n\n     A8_Score  A9_Score  A10_Score   age gender ethnicity jaundice  \\\n657         0         1          0  36.0      m    others       no   \n\n    family member with PDD country_of_res  result     age_desc relation  \\\n657                     no  United States       5  18 and more     Self   \n\n    Class/ASD  \n657        NO  ",
      "text/html": "<div>\n<style scoped>\n    .dataframe tbody tr th:only-of-type {\n        vertical-align: middle;\n    }\n\n    .dataframe tbody tr th {\n        vertical-align: top;\n    }\n\n    .dataframe thead th {\n        text-align: right;\n    }\n</style>\n<table border=\"1\" class=\"dataframe\">\n  <thead>\n    <tr style=\"text-align: right;\">\n      <th></th>\n      <th>A1_Score</th>\n      <th>A2_Score</th>\n      <th>A3_Score</th>\n      <th>A4_Score</th>\n      <th>A5_Score</th>\n      <th>A6_Score</th>\n      <th>A7_Score</th>\n      <th>A8_Score</th>\n      <th>A9_Score</th>\n      <th>A10_Score</th>\n      <th>age</th>\n      <th>gender</th>\n      <th>ethnicity</th>\n      <th>jaundice</th>\n      <th>family member with PDD</th>\n      <th>country_of_res</th>\n      <th>result</th>\n      <th>age_desc</th>\n      <th>relation</th>\n      <th>Class/ASD</th>\n    </tr>\n  </thead>\n  <tbody>\n    <tr>\n      <th>657</th>\n      <td>1</td>\n      <td>1</td>\n      <td>0</td>\n      <td>0</td>\n      <td>1</td>\n      <td>0</td>\n      <td>1</td>\n      <td>0</td>\n      <td>1</td>\n      <td>0</td>\n      <td>36.0</td>\n      <td>m</td>\n      <td>others</td>\n      <td>no</td>\n      <td>no</td>\n      <td>United States</td>\n      <td>5</td>\n      <td>18 and more</td>\n      <td>Self</td>\n      <td>NO</td>\n    </tr>\n  </tbody>\n</table>\n</div>"
     },
     "execution_count": 10,
     "metadata": {},
     "output_type": "execute_result"
    }
   ],
   "source": [
    "#we can modify also the one row with value of ethnicity = others to 'Others'\n",
    "df[df['ethnicity']=='others'] "
   ]
  },
  {
   "cell_type": "code",
   "execution_count": 11,
   "id": "a70229dc",
   "metadata": {},
   "outputs": [
    {
     "data": {
      "text/plain": "Empty DataFrame\nColumns: [A1_Score, A2_Score, A3_Score, A4_Score, A5_Score, A6_Score, A7_Score, A8_Score, A9_Score, A10_Score, age, gender, ethnicity, jaundice, family member with PDD, country_of_res, result, age_desc, relation, Class/ASD]\nIndex: []",
      "text/html": "<div>\n<style scoped>\n    .dataframe tbody tr th:only-of-type {\n        vertical-align: middle;\n    }\n\n    .dataframe tbody tr th {\n        vertical-align: top;\n    }\n\n    .dataframe thead th {\n        text-align: right;\n    }\n</style>\n<table border=\"1\" class=\"dataframe\">\n  <thead>\n    <tr style=\"text-align: right;\">\n      <th></th>\n      <th>A1_Score</th>\n      <th>A2_Score</th>\n      <th>A3_Score</th>\n      <th>A4_Score</th>\n      <th>A5_Score</th>\n      <th>A6_Score</th>\n      <th>A7_Score</th>\n      <th>A8_Score</th>\n      <th>A9_Score</th>\n      <th>A10_Score</th>\n      <th>age</th>\n      <th>gender</th>\n      <th>ethnicity</th>\n      <th>jaundice</th>\n      <th>family member with PDD</th>\n      <th>country_of_res</th>\n      <th>result</th>\n      <th>age_desc</th>\n      <th>relation</th>\n      <th>Class/ASD</th>\n    </tr>\n  </thead>\n  <tbody>\n  </tbody>\n</table>\n</div>"
     },
     "execution_count": 11,
     "metadata": {},
     "output_type": "execute_result"
    }
   ],
   "source": [
    "df.loc[657,'ethnicity'] = 'Others'\n",
    "df[df['ethnicity']=='others']"
   ]
  },
  {
   "cell_type": "code",
   "execution_count": 12,
   "id": "7bd30ca6",
   "metadata": {
    "scrolled": true
   },
   "outputs": [
    {
     "data": {
      "text/plain": "18 and more    704\nName: age_desc, dtype: int64"
     },
     "execution_count": 12,
     "metadata": {},
     "output_type": "execute_result"
    }
   ],
   "source": [
    "#the Desc age value is useless so we can eliminate it\n",
    "df.age_desc.value_counts()"
   ]
  },
  {
   "cell_type": "code",
   "execution_count": 13,
   "id": "e2b3f485",
   "metadata": {},
   "outputs": [],
   "source": [
    "df.drop('age_desc', axis=1, inplace=True)"
   ]
  },
  {
   "cell_type": "code",
   "execution_count": 14,
   "id": "724fec5a",
   "metadata": {},
   "outputs": [],
   "source": [
    "#Need to drop also the relation column because it is not related to the patient caratheristics\n",
    "df.drop('relation',axis=1,inplace=True)"
   ]
  },
  {
   "cell_type": "code",
   "execution_count": 15,
   "outputs": [],
   "source": [
    "#Need to drop the result column as it is the result of the sum o the precedent score\n",
    "df.drop(axis =1, inplace= True,labels='result')"
   ],
   "metadata": {
    "collapsed": false
   }
  },
  {
   "cell_type": "markdown",
   "id": "eaa13f35",
   "metadata": {},
   "source": [
    "_Now we analyze the age which is a float value. We can see that there is an anomalous age which is 383 --> we need to drop that patient_"
   ]
  },
  {
   "cell_type": "code",
   "execution_count": 16,
   "id": "46bd888b",
   "metadata": {
    "scrolled": false
   },
   "outputs": [
    {
     "data": {
      "text/plain": "17.0     18\n18.0     31\n19.0     35\n20.0     46\n21.0     49\n22.0     37\n23.0     37\n24.0     34\n25.0     27\n26.0     28\n27.0     31\n28.0     24\n29.0     27\n30.0     30\n31.0     21\n32.0     18\n33.0     16\n34.0     12\n35.0     17\n36.0     13\n37.0     17\n38.0     12\n39.0      7\n40.0     16\n41.0      3\n42.0     15\n43.0     11\n44.0     10\n45.0      4\n46.0      6\n47.0      8\n48.0      4\n49.0      3\n50.0      5\n51.0      1\n52.0      5\n53.0      6\n54.0      2\n55.0      6\n56.0      2\n58.0      2\n59.0      1\n60.0      1\n61.0      2\n64.0      1\n383.0     1\nName: age, dtype: int64"
     },
     "execution_count": 16,
     "metadata": {},
     "output_type": "execute_result"
    }
   ],
   "source": [
    "df.age.value_counts().sort_index()"
   ]
  },
  {
   "cell_type": "code",
   "execution_count": 17,
   "id": "c287913c",
   "metadata": {
    "scrolled": true
   },
   "outputs": [
    {
     "data": {
      "text/plain": "    A1_Score  A2_Score  A3_Score  A4_Score  A5_Score  A6_Score  A7_Score  \\\n52         1         0         0         0         0         0         0   \n\n    A8_Score  A9_Score  A10_Score    age gender ethnicity jaundice  \\\n52         0         0          0  383.0      f  Pasifika       no   \n\n   family member with PDD country_of_res Class/ASD  \n52                     no    New Zealand        NO  ",
      "text/html": "<div>\n<style scoped>\n    .dataframe tbody tr th:only-of-type {\n        vertical-align: middle;\n    }\n\n    .dataframe tbody tr th {\n        vertical-align: top;\n    }\n\n    .dataframe thead th {\n        text-align: right;\n    }\n</style>\n<table border=\"1\" class=\"dataframe\">\n  <thead>\n    <tr style=\"text-align: right;\">\n      <th></th>\n      <th>A1_Score</th>\n      <th>A2_Score</th>\n      <th>A3_Score</th>\n      <th>A4_Score</th>\n      <th>A5_Score</th>\n      <th>A6_Score</th>\n      <th>A7_Score</th>\n      <th>A8_Score</th>\n      <th>A9_Score</th>\n      <th>A10_Score</th>\n      <th>age</th>\n      <th>gender</th>\n      <th>ethnicity</th>\n      <th>jaundice</th>\n      <th>family member with PDD</th>\n      <th>country_of_res</th>\n      <th>Class/ASD</th>\n    </tr>\n  </thead>\n  <tbody>\n    <tr>\n      <th>52</th>\n      <td>1</td>\n      <td>0</td>\n      <td>0</td>\n      <td>0</td>\n      <td>0</td>\n      <td>0</td>\n      <td>0</td>\n      <td>0</td>\n      <td>0</td>\n      <td>0</td>\n      <td>383.0</td>\n      <td>f</td>\n      <td>Pasifika</td>\n      <td>no</td>\n      <td>no</td>\n      <td>New Zealand</td>\n      <td>NO</td>\n    </tr>\n  </tbody>\n</table>\n</div>"
     },
     "execution_count": 17,
     "metadata": {},
     "output_type": "execute_result"
    }
   ],
   "source": [
    "df[df.age == 383.0]"
   ]
  },
  {
   "cell_type": "code",
   "execution_count": 18,
   "id": "8cdec5c0",
   "metadata": {},
   "outputs": [],
   "source": [
    "df.drop(52,axis=0,inplace = True)"
   ]
  },
  {
   "cell_type": "code",
   "execution_count": 19,
   "outputs": [],
   "source": [
    "df['gender'].map({'m':1,'f':0})\n",
    "df['gender'] = df['gender'].map({'m':1,'f':0})\n",
    "df['jaundice'] = df['jaundice'].map({'yes':1,'no':0})\n",
    "df['family member with PDD'] = df['family member with PDD'].map({'yes':1,'no':0})\n",
    "df['Class/ASD'] = df['Class/ASD'].map({'YES':1,'NO':0})"
   ],
   "metadata": {
    "collapsed": false
   }
  },
  {
   "cell_type": "markdown",
   "id": "e2e7c8bd",
   "metadata": {},
   "source": [
    "## Handling of missing values"
   ]
  },
  {
   "cell_type": "markdown",
   "id": "b9b2fc96",
   "metadata": {},
   "source": [
    "Ignoring the tuple with missing values to see if there is a change in class distribution"
   ]
  },
  {
   "cell_type": "code",
   "execution_count": 20,
   "id": "e9058eff",
   "metadata": {},
   "outputs": [
    {
     "data": {
      "text/plain": "0.8648648648648649"
     },
     "execution_count": 20,
     "metadata": {},
     "output_type": "execute_result"
    }
   ],
   "source": [
    "#Calculate the percentage of remained tuple \n",
    "df_notna = df.dropna(how='any')\n",
    "len(df_notna)/len(df)"
   ]
  },
  {
   "cell_type": "code",
   "execution_count": 21,
   "id": "da39a8dc",
   "metadata": {},
   "outputs": [
    {
     "data": {
      "text/plain": "<Figure size 1000x500 with 2 Axes>",
      "image/png": "[encoded data removed]"
     },
     "metadata": {},
     "output_type": "display_data"
    }
   ],
   "source": [
    "#Plot the count plot for the class in the original dataframe and in dataframe without missing values\n",
    "fig,axes = plt.subplots(1,2,figsize=(10,5),sharey = True)\n",
    "sns.countplot(x='Class/ASD',data = df, ax = axes[0], order = df_notna['Class/ASD'].value_counts().index)\n",
    "axes[0].tick_params(axis = 'x',labelrotation=90)\n",
    "axes[0].set_title('Before removal of tuples with NaN values')\n",
    "sns.countplot(x='Class/ASD',data = df_notna, ax = axes[1], order = df_notna['Class/ASD'].value_counts().index)\n",
    "axes[1].tick_params(axis = 'x',labelrotation=90)\n",
    "axes[1].set_title('After removal of tuples with NaN values')\n",
    "\n",
    "plt.show()"
   ]
  },
  {
   "cell_type": "code",
   "execution_count": 22,
   "id": "35d8e9e8",
   "metadata": {
    "scrolled": true
   },
   "outputs": [
    {
     "name": "stdout",
     "output_type": "stream",
     "text": [
      "NaN    95\n",
      "Name: ethnicity, dtype: int64\n",
      "\n",
      "21.0    17\n",
      "20.0    15\n",
      "19.0    11\n",
      "22.0     4\n",
      "23.0     4\n",
      "32.0     4\n",
      "17.0     4\n",
      "26.0     3\n",
      "24.0     3\n",
      "30.0     3\n",
      "28.0     2\n",
      "47.0     2\n",
      "37.0     2\n",
      "27.0     2\n",
      "31.0     2\n",
      "NaN      2\n",
      "43.0     2\n",
      "52.0     2\n",
      "50.0     1\n",
      "33.0     1\n",
      "44.0     1\n",
      "40.0     1\n",
      "41.0     1\n",
      "29.0     1\n",
      "25.0     1\n",
      "45.0     1\n",
      "38.0     1\n",
      "34.0     1\n",
      "56.0     1\n",
      "Name: age, dtype: int64\n"
     ]
    }
   ],
   "source": [
    "#Check for each attribute with missing values the number of rows that contain Nan values\n",
    "rows_na =  df.isnull().any(axis=1)\n",
    "print(df.loc[[i for i in rows_na.index if rows_na[i]]].ethnicity.value_counts(dropna= False))\n",
    "print()\n",
    "print(df.loc[[i for i in rows_na.index if rows_na[i]]].age.value_counts(dropna= False))\n"
   ]
  },
  {
   "cell_type": "code",
   "execution_count": 23,
   "id": "62730d4c",
   "metadata": {},
   "outputs": [
    {
     "data": {
      "text/plain": "    A1_Score  A2_Score  A3_Score  A4_Score  A5_Score  A6_Score  A7_Score  \\\n62         0         0         0         0         0         0         0   \n91         0         1         0         0         1         0         1   \n\n    A8_Score  A9_Score  A10_Score  age  gender ethnicity  jaundice  \\\n62         0         0          0  NaN       1       NaN         0   \n91         0         0          1  NaN       0       NaN         0   \n\n    family member with PDD country_of_res  Class/ASD  \n62                       0   Saudi Arabia          0  \n91                       0         Jordan          0  ",
      "text/html": "<div>\n<style scoped>\n    .dataframe tbody tr th:only-of-type {\n        vertical-align: middle;\n    }\n\n    .dataframe tbody tr th {\n        vertical-align: top;\n    }\n\n    .dataframe thead th {\n        text-align: right;\n    }\n</style>\n<table border=\"1\" class=\"dataframe\">\n  <thead>\n    <tr style=\"text-align: right;\">\n      <th></th>\n      <th>A1_Score</th>\n      <th>A2_Score</th>\n      <th>A3_Score</th>\n      <th>A4_Score</th>\n      <th>A5_Score</th>\n      <th>A6_Score</th>\n      <th>A7_Score</th>\n      <th>A8_Score</th>\n      <th>A9_Score</th>\n      <th>A10_Score</th>\n      <th>age</th>\n      <th>gender</th>\n      <th>ethnicity</th>\n      <th>jaundice</th>\n      <th>family member with PDD</th>\n      <th>country_of_res</th>\n      <th>Class/ASD</th>\n    </tr>\n  </thead>\n  <tbody>\n    <tr>\n      <th>62</th>\n      <td>0</td>\n      <td>0</td>\n      <td>0</td>\n      <td>0</td>\n      <td>0</td>\n      <td>0</td>\n      <td>0</td>\n      <td>0</td>\n      <td>0</td>\n      <td>0</td>\n      <td>NaN</td>\n      <td>1</td>\n      <td>NaN</td>\n      <td>0</td>\n      <td>0</td>\n      <td>Saudi Arabia</td>\n      <td>0</td>\n    </tr>\n    <tr>\n      <th>91</th>\n      <td>0</td>\n      <td>1</td>\n      <td>0</td>\n      <td>0</td>\n      <td>1</td>\n      <td>0</td>\n      <td>1</td>\n      <td>0</td>\n      <td>0</td>\n      <td>1</td>\n      <td>NaN</td>\n      <td>0</td>\n      <td>NaN</td>\n      <td>0</td>\n      <td>0</td>\n      <td>Jordan</td>\n      <td>0</td>\n    </tr>\n  </tbody>\n</table>\n</div>"
     },
     "execution_count": 23,
     "metadata": {},
     "output_type": "execute_result"
    }
   ],
   "source": [
    "#Find the rows where age  is null\n",
    "mask = df['age'].isnull()\n",
    "df[mask]"
   ]
  },
  {
   "cell_type": "code",
   "execution_count": 24,
   "id": "bced675f",
   "metadata": {},
   "outputs": [],
   "source": [
    "#drop them\n",
    "df.drop(62,axis=0,inplace = True)\n",
    "df.drop(91,axis=0,inplace = True)"
   ]
  },
  {
   "cell_type": "code",
   "execution_count": 25,
   "id": "8b9b6f55",
   "metadata": {},
   "outputs": [
    {
     "name": "stdout",
     "output_type": "stream",
     "text": [
      "<class 'pandas.core.frame.DataFrame'>\n",
      "Int64Index: 701 entries, 0 to 703\n",
      "Data columns (total 17 columns):\n",
      " #   Column                  Non-Null Count  Dtype  \n",
      "---  ------                  --------------  -----  \n",
      " 0   A1_Score                701 non-null    int64  \n",
      " 1   A2_Score                701 non-null    int64  \n",
      " 2   A3_Score                701 non-null    int64  \n",
      " 3   A4_Score                701 non-null    int64  \n",
      " 4   A5_Score                701 non-null    int64  \n",
      " 5   A6_Score                701 non-null    int64  \n",
      " 6   A7_Score                701 non-null    int64  \n",
      " 7   A8_Score                701 non-null    int64  \n",
      " 8   A9_Score                701 non-null    int64  \n",
      " 9   A10_Score               701 non-null    int64  \n",
      " 10  age                     701 non-null    float64\n",
      " 11  gender                  701 non-null    int64  \n",
      " 12  ethnicity               701 non-null    object \n",
      " 13  jaundice                701 non-null    int64  \n",
      " 14  family member with PDD  701 non-null    int64  \n",
      " 15  country_of_res          701 non-null    object \n",
      " 16  Class/ASD               701 non-null    int64  \n",
      "dtypes: float64(1), int64(14), object(2)\n",
      "memory usage: 98.6+ KB\n"
     ]
    }
   ],
   "source": [
    "#fill the other missing values with Others\n",
    "df.fillna(value = 'Others',inplace = True)\n",
    "df.info()"
   ]
  },
  {
   "cell_type": "code",
   "execution_count": 26,
   "outputs": [
    {
     "data": {
      "text/plain": "Index(['A1_Score', 'A2_Score', 'A3_Score', 'A4_Score', 'A5_Score', 'A6_Score',\n       'A7_Score', 'A8_Score', 'A9_Score', 'A10_Score', 'age', 'gender',\n       'ethnicity', 'jaundice', 'family member with PDD', 'country_of_res',\n       'Class/ASD'],\n      dtype='object')"
     },
     "execution_count": 26,
     "metadata": {},
     "output_type": "execute_result"
    }
   ],
   "source": [
    "df.columns"
   ],
   "metadata": {
    "collapsed": false
   }
  },
  {
   "cell_type": "markdown",
   "source": [],
   "metadata": {
    "collapsed": false
   }
  },
  {
   "cell_type": "code",
   "execution_count": 27,
   "outputs": [
    {
     "data": {
      "text/plain": "     A1_Score  A2_Score  A3_Score  A4_Score  A5_Score  A6_Score  A7_Score  \\\n0           1         1         1         1         0         0         1   \n1           1         1         0         1         0         0         0   \n2           1         1         0         1         1         0         1   \n3           1         1         0         1         0         0         1   \n4           1         0         0         0         0         0         0   \n..        ...       ...       ...       ...       ...       ...       ...   \n699         0         1         0         1         1         0         1   \n700         1         0         0         0         0         0         0   \n701         1         0         1         1         1         0         1   \n702         1         0         0         1         1         0         1   \n703         1         0         1         1         1         0         1   \n\n     A8_Score  A9_Score  A10_Score  ...  Sri Lanka  Sweden  Tonga  Turkey  \\\n0           1         0          0  ...          0       0      0       0   \n1           1         0          1  ...          0       0      0       0   \n2           1         1          1  ...          0       0      0       0   \n3           1         0          1  ...          0       0      0       0   \n4           1         0          0  ...          0       0      0       0   \n..        ...       ...        ...  ...        ...     ...    ...     ...   \n699         1         1          1  ...          0       0      0       0   \n700         1         0          1  ...          0       0      0       0   \n701         1         0          1  ...          0       0      0       0   \n702         0         1          1  ...          0       0      0       0   \n703         1         1          1  ...          0       0      0       0   \n\n     Ukraine  United Arab Emirates  United Kingdom  United States  Uruguay  \\\n0          0                     0               0              1        0   \n1          0                     0               0              0        0   \n2          0                     0               0              0        0   \n3          0                     0               0              1        0   \n4          0                     0               0              0        0   \n..       ...                   ...             ...            ...      ...   \n699        0                     0               0              0        0   \n700        0                     0               0              0        0   \n701        0                     0               0              0        0   \n702        0                     0               0              0        0   \n703        0                     0               0              0        0   \n\n     Viet Nam  \n0           0  \n1           0  \n2           0  \n3           0  \n4           0  \n..        ...  \n699         0  \n700         0  \n701         0  \n702         0  \n703         0  \n\n[701 rows x 92 columns]",
      "text/html": "<div>\n<style scoped>\n    .dataframe tbody tr th:only-of-type {\n        vertical-align: middle;\n    }\n\n    .dataframe tbody tr th {\n        vertical-align: top;\n    }\n\n    .dataframe thead th {\n        text-align: right;\n    }\n</style>\n<table border=\"1\" class=\"dataframe\">\n  <thead>\n    <tr style=\"text-align: right;\">\n      <th></th>\n      <th>A1_Score</th>\n      <th>A2_Score</th>\n      <th>A3_Score</th>\n      <th>A4_Score</th>\n      <th>A5_Score</th>\n      <th>A6_Score</th>\n      <th>A7_Score</th>\n      <th>A8_Score</th>\n      <th>A9_Score</th>\n      <th>A10_Score</th>\n      <th>...</th>\n      <th>Sri Lanka</th>\n      <th>Sweden</th>\n      <th>Tonga</th>\n      <th>Turkey</th>\n      <th>Ukraine</th>\n      <th>United Arab Emirates</th>\n      <th>United Kingdom</th>\n      <th>United States</th>\n      <th>Uruguay</th>\n      <th>Viet Nam</th>\n    </tr>\n  </thead>\n  <tbody>\n    <tr>\n      <th>0</th>\n      <td>1</td>\n      <td>1</td>\n      <td>1</td>\n      <td>1</td>\n      <td>0</td>\n      <td>0</td>\n      <td>1</td>\n      <td>1</td>\n      <td>0</td>\n      <td>0</td>\n      <td>...</td>\n      <td>0</td>\n      <td>0</td>\n      <td>0</td>\n      <td>0</td>\n      <td>0</td>\n      <td>0</td>\n      <td>0</td>\n      <td>1</td>\n      <td>0</td>\n      <td>0</td>\n    </tr>\n    <tr>\n      <th>1</th>\n      <td>1</td>\n      <td>1</td>\n      <td>0</td>\n      <td>1</td>\n      <td>0</td>\n      <td>0</td>\n      <td>0</td>\n      <td>1</td>\n      <td>0</td>\n      <td>1</td>\n      <td>...</td>\n      <td>0</td>\n      <td>0</td>\n      <td>0</td>\n      <td>0</td>\n      <td>0</td>\n      <td>0</td>\n      <td>0</td>\n      <td>0</td>\n      <td>0</td>\n      <td>0</td>\n    </tr>\n    <tr>\n      <th>2</th>\n      <td>1</td>\n      <td>1</td>\n      <td>0</td>\n      <td>1</td>\n      <td>1</td>\n      <td>0</td>\n      <td>1</td>\n      <td>1</td>\n      <td>1</td>\n      <td>1</td>\n      <td>...</td>\n      <td>0</td>\n      <td>0</td>\n      <td>0</td>\n      <td>0</td>\n      <td>0</td>\n      <td>0</td>\n      <td>0</td>\n      <td>0</td>\n      <td>0</td>\n      <td>0</td>\n    </tr>\n    <tr>\n      <th>3</th>\n      <td>1</td>\n      <td>1</td>\n      <td>0</td>\n      <td>1</td>\n      <td>0</td>\n      <td>0</td>\n      <td>1</td>\n      <td>1</td>\n      <td>0</td>\n      <td>1</td>\n      <td>...</td>\n      <td>0</td>\n      <td>0</td>\n      <td>0</td>\n      <td>0</td>\n      <td>0</td>\n      <td>0</td>\n      <td>0</td>\n      <td>1</td>\n      <td>0</td>\n      <td>0</td>\n    </tr>\n    <tr>\n      <th>4</th>\n      <td>1</td>\n      <td>0</td>\n      <td>0</td>\n      <td>0</td>\n      <td>0</td>\n      <td>0</td>\n      <td>0</td>\n      <td>1</td>\n      <td>0</td>\n      <td>0</td>\n      <td>...</td>\n      <td>0</td>\n      <td>0</td>\n      <td>0</td>\n      <td>0</td>\n      <td>0</td>\n      <td>0</td>\n      <td>0</td>\n      <td>0</td>\n      <td>0</td>\n      <td>0</td>\n    </tr>\n    <tr>\n      <th>...</th>\n      <td>...</td>\n      <td>...</td>\n      <td>...</td>\n      <td>...</td>\n      <td>...</td>\n      <td>...</td>\n      <td>...</td>\n      <td>...</td>\n      <td>...</td>\n      <td>...</td>\n      <td>...</td>\n      <td>...</td>\n      <td>...</td>\n      <td>...</td>\n      <td>...</td>\n      <td>...</td>\n      <td>...</td>\n      <td>...</td>\n      <td>...</td>\n      <td>...</td>\n      <td>...</td>\n    </tr>\n    <tr>\n      <th>699</th>\n      <td>0</td>\n      <td>1</td>\n      <td>0</td>\n      <td>1</td>\n      <td>1</td>\n      <td>0</td>\n      <td>1</td>\n      <td>1</td>\n      <td>1</td>\n      <td>1</td>\n      <td>...</td>\n      <td>0</td>\n      <td>0</td>\n      <td>0</td>\n      <td>0</td>\n      <td>0</td>\n      <td>0</td>\n      <td>0</td>\n      <td>0</td>\n      <td>0</td>\n      <td>0</td>\n    </tr>\n    <tr>\n      <th>700</th>\n      <td>1</td>\n      <td>0</td>\n      <td>0</td>\n      <td>0</td>\n      <td>0</td>\n      <td>0</td>\n      <td>0</td>\n      <td>1</td>\n      <td>0</td>\n      <td>1</td>\n      <td>...</td>\n      <td>0</td>\n      <td>0</td>\n      <td>0</td>\n      <td>0</td>\n      <td>0</td>\n      <td>0</td>\n      <td>0</td>\n      <td>0</td>\n      <td>0</td>\n      <td>0</td>\n    </tr>\n    <tr>\n      <th>701</th>\n      <td>1</td>\n      <td>0</td>\n      <td>1</td>\n      <td>1</td>\n      <td>1</td>\n      <td>0</td>\n      <td>1</td>\n      <td>1</td>\n      <td>0</td>\n      <td>1</td>\n      <td>...</td>\n      <td>0</td>\n      <td>0</td>\n      <td>0</td>\n      <td>0</td>\n      <td>0</td>\n      <td>0</td>\n      <td>0</td>\n      <td>0</td>\n      <td>0</td>\n      <td>0</td>\n    </tr>\n    <tr>\n      <th>702</th>\n      <td>1</td>\n      <td>0</td>\n      <td>0</td>\n      <td>1</td>\n      <td>1</td>\n      <td>0</td>\n      <td>1</td>\n      <td>0</td>\n      <td>1</td>\n      <td>1</td>\n      <td>...</td>\n      <td>0</td>\n      <td>0</td>\n      <td>0</td>\n      <td>0</td>\n      <td>0</td>\n      <td>0</td>\n      <td>0</td>\n      <td>0</td>\n      <td>0</td>\n      <td>0</td>\n    </tr>\n    <tr>\n      <th>703</th>\n      <td>1</td>\n      <td>0</td>\n      <td>1</td>\n      <td>1</td>\n      <td>1</td>\n      <td>0</td>\n      <td>1</td>\n      <td>1</td>\n      <td>1</td>\n      <td>1</td>\n      <td>...</td>\n      <td>0</td>\n      <td>0</td>\n      <td>0</td>\n      <td>0</td>\n      <td>0</td>\n      <td>0</td>\n      <td>0</td>\n      <td>0</td>\n      <td>0</td>\n      <td>0</td>\n    </tr>\n  </tbody>\n</table>\n<p>701 rows × 92 columns</p>\n</div>"
     },
     "execution_count": 27,
     "metadata": {},
     "output_type": "execute_result"
    }
   ],
   "source": [
    "for column in df.columns:\n",
    "    if column in [\"ethnicity\",\"country_of_res\"]:\n",
    "        temp = pd.get_dummies(df[column],drop_first=False)\n",
    "        df = pd.concat([df,temp],axis=1)\n",
    "        df.drop(axis = 1, labels = column,inplace = True)\n",
    "df"
   ],
   "metadata": {
    "collapsed": false
   }
  },
  {
   "cell_type": "code",
   "execution_count": 28,
   "id": "d7c795b4",
   "metadata": {},
   "outputs": [
    {
     "data": {
      "text/plain": "Index(['A1_Score', 'A2_Score', 'A3_Score', 'A4_Score', 'A5_Score', 'A6_Score',\n       'A7_Score', 'A8_Score', 'A9_Score', 'A10_Score', 'age', 'gender',\n       'jaundice', 'family member with PDD', 'Class/ASD', 'Asian', 'Black',\n       'Hispanic', 'Latino', 'Middle Eastern ', 'Others', 'Pasifika',\n       'South Asian', 'Turkish', 'White-European', 'Afghanistan',\n       'AmericanSamoa', 'Angola', 'Argentina', 'Armenia', 'Aruba', 'Australia',\n       'Austria', 'Azerbaijan', 'Bahamas', 'Bangladesh', 'Belgium', 'Bolivia',\n       'Brazil', 'Burundi', 'Canada', 'Chile', 'China', 'Costa Rica', 'Cyprus',\n       'Czech Republic', 'Ecuador', 'Egypt', 'Ethiopia', 'Finland', 'France',\n       'Germany', 'Hong Kong', 'Iceland', 'India', 'Indonesia', 'Iran', 'Iraq',\n       'Ireland', 'Italy', 'Japan', 'Jordan', 'Kazakhstan', 'Lebanon',\n       'Malaysia', 'Mexico', 'Nepal', 'Netherlands', 'New Zealand',\n       'Nicaragua', 'Niger', 'Oman', 'Pakistan', 'Philippines', 'Portugal',\n       'Romania', 'Russia', 'Saudi Arabia', 'Serbia', 'Sierra Leone',\n       'South Africa', 'Spain', 'Sri Lanka', 'Sweden', 'Tonga', 'Turkey',\n       'Ukraine', 'United Arab Emirates', 'United Kingdom', 'United States',\n       'Uruguay', 'Viet Nam'],\n      dtype='object')"
     },
     "execution_count": 28,
     "metadata": {},
     "output_type": "execute_result"
    }
   ],
   "source": [
    "#Change every nominal attribute type as category\n",
    "df['age'] = df['age'].astype('float32')\n",
    "for column in df.columns:\n",
    "    if column not in df.columns[1:10] and not (column=='age') :\n",
    "        df[column] = df[column].astype('category')\n",
    "\n",
    "df.columns"
   ]
  },
  {
   "cell_type": "markdown",
   "id": "2af455dd",
   "metadata": {},
   "source": [
    "# Imbalanced class problems"
   ]
  },
  {
   "cell_type": "code",
   "execution_count": 29,
   "id": "a8a97b09",
   "metadata": {},
   "outputs": [
    {
     "data": {
      "text/plain": "0    512\n1    189\nName: Class/ASD, dtype: int64"
     },
     "execution_count": 29,
     "metadata": {},
     "output_type": "execute_result"
    }
   ],
   "source": [
    "df['Class/ASD'].value_counts()"
   ]
  },
  {
   "cell_type": "markdown",
   "id": "6adb441e",
   "metadata": {},
   "source": [
    "Class are not so imbalanced"
   ]
  },
  {
   "cell_type": "markdown",
   "id": "05f47920",
   "metadata": {},
   "source": [
    "# Comparing classifiers with features Selection"
   ]
  },
  {
   "cell_type": "code",
   "execution_count": 30,
   "outputs": [],
   "source": [
    "from sklearn.model_selection import cross_validate\n",
    "from sklearn.metrics import accuracy_score, f1_score, make_scorer\n",
    "from sklearn.pipeline import Pipeline\n",
    "from sklearn.feature_selection import SelectKBest\n",
    "from sklearn.model_selection import KFold\n",
    "from statistics import mean\n"
   ],
   "metadata": {
    "collapsed": false
   }
  },
  {
   "cell_type": "code",
   "execution_count": 31,
   "outputs": [],
   "source": [
    "def test_classifier(clf,X,y):\n",
    "    estimators = [('fs',SelectKBest()),('clf',clf)]\n",
    "    pipe_fs = Pipeline(estimators)\n",
    "\n",
    "    estimators_nofs = [('clf',clf)]\n",
    "    pipe_nofs = Pipeline(estimators_nofs)\n",
    "\n",
    "    kf = KFold(n_splits=10)\n",
    "\n",
    "    results_fs = cross_validate(pipe_fs,\n",
    "                         X,\n",
    "                         y,\n",
    "                         scoring = {'fscore': make_scorer(f1_score),\n",
    "                                    'accuracy': make_scorer(accuracy_score)},\n",
    "                         return_estimator = True,\n",
    "                         cv = kf,\n",
    "                         n_jobs = -1)\n",
    "    results_nofs = cross_validate(pipe_nofs,\n",
    "                         X,\n",
    "                         y,\n",
    "                         scoring = {'fscore': make_scorer(f1_score),\n",
    "                                    'accuracy': make_scorer(accuracy_score)},\n",
    "                         return_estimator = True,\n",
    "                         cv = kf,\n",
    "                         n_jobs = -1)\n",
    "    metrics = pd.DataFrame({'fsel': results_fs['test_fscore'],\n",
    "                        'nofsel': results_nofs['test_fscore']})\n",
    "\n",
    "    ax = metrics.boxplot(figsize = (3,3))\n",
    "    ax.set_ylabel('f-score')\n",
    "    plt.show()\n",
    "    print(\"Mean feature selection:\",mean(metrics['fsel']))\n",
    "    print(\"Mean No feature selection\",mean(metrics['nofsel']))\n",
    "    print(ttest_rel(metrics['fsel'],metrics['nofsel']))\n"
   ],
   "metadata": {
    "collapsed": false
   }
  },
  {
   "cell_type": "code",
   "execution_count": 32,
   "outputs": [
    {
     "name": "stdout",
     "output_type": "stream",
     "text": [
      "    A1_Score  A2_Score  A3_Score  A4_Score  A5_Score  A6_Score  A7_Score  \\\n",
      "0          1         1         1         1         0         0         1   \n",
      "1          1         1         0         1         0         0         0   \n",
      "2          1         1         0         1         1         0         1   \n",
      "3          1         1         0         1         0         0         1   \n",
      "4          1         0         0         0         0         0         0   \n",
      "..       ...       ...       ...       ...       ...       ...       ...   \n",
      "699        0         1         0         1         1         0         1   \n",
      "700        1         0         0         0         0         0         0   \n",
      "701        1         0         1         1         1         0         1   \n",
      "702        1         0         0         1         1         0         1   \n",
      "703        1         0         1         1         1         0         1   \n",
      "\n",
      "     A8_Score  A9_Score  A10_Score  ...  Sri Lanka Sweden Tonga Turkey  \\\n",
      "0           1         0          0  ...          0      0     0      0   \n",
      "1           1         0          1  ...          0      0     0      0   \n",
      "2           1         1          1  ...          0      0     0      0   \n",
      "3           1         0          1  ...          0      0     0      0   \n",
      "4           1         0          0  ...          0      0     0      0   \n",
      "..        ...       ...        ...  ...        ...    ...   ...    ...   \n",
      "699         1         1          1  ...          0      0     0      0   \n",
      "700         1         0          1  ...          0      0     0      0   \n",
      "701         1         0          1  ...          0      0     0      0   \n",
      "702         0         1          1  ...          0      0     0      0   \n",
      "703         1         1          1  ...          0      0     0      0   \n",
      "\n",
      "    Ukraine United Arab Emirates United Kingdom United States Uruguay Viet Nam  \n",
      "0         0                    0              0             1       0        0  \n",
      "1         0                    0              0             0       0        0  \n",
      "2         0                    0              0             0       0        0  \n",
      "3         0                    0              0             1       0        0  \n",
      "4         0                    0              0             0       0        0  \n",
      "..      ...                  ...            ...           ...     ...      ...  \n",
      "699       0                    0              0             0       0        0  \n",
      "700       0                    0              0             0       0        0  \n",
      "701       0                    0              0             0       0        0  \n",
      "702       0                    0              0             0       0        0  \n",
      "703       0                    0              0             0       0        0  \n",
      "\n",
      "[701 rows x 91 columns]\n",
      "\n",
      "0      0\n",
      "1      0\n",
      "2      1\n",
      "3      0\n",
      "4      0\n",
      "      ..\n",
      "699    1\n",
      "700    0\n",
      "701    1\n",
      "702    0\n",
      "703    1\n",
      "Name: Class/ASD, Length: 701, dtype: category\n",
      "Categories (2, int64): [0, 1]\n"
     ]
    }
   ],
   "source": [
    "X = df.drop(axis=1,labels='Class/ASD')\n",
    "y = df['Class/ASD']\n",
    "print(X)\n",
    "print()\n",
    "print(y)\n"
   ],
   "metadata": {
    "collapsed": false
   }
  },
  {
   "cell_type": "markdown",
   "source": [
    "# Decision Tree"
   ],
   "metadata": {
    "collapsed": false
   }
  },
  {
   "cell_type": "code",
   "execution_count": 33,
   "outputs": [],
   "source": [
    "from sklearn.tree import DecisionTreeClassifier"
   ],
   "metadata": {
    "collapsed": false
   }
  },
  {
   "cell_type": "code",
   "execution_count": 34,
   "outputs": [
    {
     "data": {
      "text/plain": "<Figure size 300x300 with 1 Axes>",
      "image/png": "[encoded data removed]"
     },
     "metadata": {},
     "output_type": "display_data"
    },
    {
     "name": "stdout",
     "output_type": "stream",
     "text": [
      "Mean feature selection: 0.8494738574988248\n",
      "Mean No feature selection 0.7625546449104602\n",
      "Ttest_relResult(statistic=2.4484292316668212, pvalue=0.03685155219184651)\n"
     ]
    }
   ],
   "source": [
    "decisionTree = DecisionTreeClassifier(criterion='gini')\n",
    "test_classifier(decisionTree,X,y)"
   ],
   "metadata": {
    "collapsed": false
   }
  },
  {
   "cell_type": "markdown",
   "source": [
    "P-value is greater than 0.05, so we can assume that the differences in the f-score between the f-scores samples can be attributed to chance. For this reason we choose use the Decision tree without feature selection\n",
    "attributed to chance\n",
    "\n",
    "In another case p value is under 0.05\n",
    "What can i assume?\n",
    "Feature selection is always better than no feature selection and in some cases there is significant statistical difference. So it's better to make features selection for having better performance in terms of f1 score."
   ],
   "metadata": {
    "collapsed": false
   }
  },
  {
   "cell_type": "markdown",
   "source": [
    "f-score for decision tree classifier is about 0.8552 with feature selection"
   ],
   "metadata": {
    "collapsed": false
   }
  },
  {
   "cell_type": "markdown",
   "source": [
    "# K-Nearest Neighbor"
   ],
   "metadata": {
    "collapsed": false
   }
  },
  {
   "cell_type": "code",
   "execution_count": 35,
   "outputs": [],
   "source": [
    "from sklearn.neighbors import KNeighborsClassifier"
   ],
   "metadata": {
    "collapsed": false
   }
  },
  {
   "cell_type": "markdown",
   "source": [
    "Need to select \"k\" based on the performance\n",
    "Test the classifier multiple times in order to find an optimal k"
   ],
   "metadata": {
    "collapsed": false
   }
  },
  {
   "cell_type": "code",
   "execution_count": 36,
   "outputs": [
    {
     "name": "stdout",
     "output_type": "stream",
     "text": [
      "Test for k= 5\n"
     ]
    },
    {
     "data": {
      "text/plain": "<Figure size 300x300 with 1 Axes>",
      "image/png": "[encoded data removed]"
     },
     "metadata": {},
     "output_type": "display_data"
    },
    {
     "name": "stdout",
     "output_type": "stream",
     "text": [
      "Mean feature selection: 0.9340009563627953\n",
      "Mean No feature selection 0.7355551721042388\n",
      "Ttest_relResult(statistic=2.1931169388858507, pvalue=0.05596515816138635)\n",
      "Test for k= 6\n"
     ]
    },
    {
     "data": {
      "text/plain": "<Figure size 300x300 with 1 Axes>",
      "image/png": "[encoded data removed]"
     },
     "metadata": {},
     "output_type": "display_data"
    },
    {
     "name": "stdout",
     "output_type": "stream",
     "text": [
      "Mean feature selection: 0.9282162144863286\n",
      "Mean No feature selection 0.7006043926753717\n",
      "Ttest_relResult(statistic=2.537129299648508, pvalue=0.031860494897694366)\n",
      "Test for k= 7\n"
     ]
    },
    {
     "data": {
      "text/plain": "<Figure size 300x300 with 1 Axes>",
      "image/png": "[encoded data removed]"
     },
     "metadata": {},
     "output_type": "display_data"
    },
    {
     "name": "stdout",
     "output_type": "stream",
     "text": [
      "Mean feature selection: 0.931933944855687\n",
      "Mean No feature selection 0.773592747407638\n",
      "Ttest_relResult(statistic=3.8363229821302567, pvalue=0.003988914732859249)\n",
      "Test for k= 8\n"
     ]
    },
    {
     "data": {
      "text/plain": "<Figure size 300x300 with 1 Axes>",
      "image/png": "[encoded data removed]"
     },
     "metadata": {},
     "output_type": "display_data"
    },
    {
     "name": "stdout",
     "output_type": "stream",
     "text": [
      "Mean feature selection: 0.915174483901366\n",
      "Mean No feature selection 0.7153157187639947\n",
      "Ttest_relResult(statistic=2.846497118372223, pvalue=0.01919857414948027)\n",
      "Test for k= 9\n"
     ]
    },
    {
     "data": {
      "text/plain": "<Figure size 300x300 with 1 Axes>",
      "image/png": "[encoded data removed]"
     },
     "metadata": {},
     "output_type": "display_data"
    },
    {
     "name": "stdout",
     "output_type": "stream",
     "text": [
      "Mean feature selection: 0.9030492727072578\n",
      "Mean No feature selection 0.7210413443348468\n",
      "Ttest_relResult(statistic=3.259161337526671, pvalue=0.009851940463188628)\n",
      "Test for k= 10\n"
     ]
    },
    {
     "data": {
      "text/plain": "<Figure size 300x300 with 1 Axes>",
      "image/png": "[encoded data removed]"
     },
     "metadata": {},
     "output_type": "display_data"
    },
    {
     "name": "stdout",
     "output_type": "stream",
     "text": [
      "Mean feature selection: 0.9013860566366342\n",
      "Mean No feature selection 0.7074337105120324\n",
      "Ttest_relResult(statistic=2.748334584858803, pvalue=0.022538134070204174)\n"
     ]
    }
   ],
   "source": [
    "for k in range(5,11):  #range does not include 11 but include 10\n",
    "    print(\"Test for k=\",k)\n",
    "    knn  = KNeighborsClassifier(n_neighbors=k)\n",
    "    test_classifier(knn,X,y)"
   ],
   "metadata": {
    "collapsed": false
   }
  },
  {
   "cell_type": "markdown",
   "source": [
    "As i can see, for k = 10 we have the worst accuracy in terms of features selection but also a smaller p-value than other cases. Can i assume that is the most reliable result(less optimistic)?\n",
    "We can see that the best result with a low p-value is that for k = 7 so i can choose that model done with feature selection. K = 7 represent a local maximum so we chose a k=7 k-nn classifier"
   ],
   "metadata": {
    "collapsed": false
   }
  },
  {
   "cell_type": "markdown",
   "source": [
    "K-NN classifier with k =7 performs a f-score that is about 0.93 with features selection."
   ],
   "metadata": {
    "collapsed": false
   }
  },
  {
   "cell_type": "markdown",
   "source": [
    "# Naive Bayesian classifier"
   ],
   "metadata": {
    "collapsed": false
   }
  },
  {
   "cell_type": "code",
   "execution_count": 37,
   "outputs": [],
   "source": [
    "from sklearn.naive_bayes import BernoulliNB\n",
    "bc = BernoulliNB(alpha=0)  # no smoothing"
   ],
   "metadata": {
    "collapsed": false
   }
  },
  {
   "cell_type": "code",
   "execution_count": 38,
   "outputs": [
    {
     "data": {
      "text/plain": "<Figure size 300x300 with 1 Axes>",
      "image/png": "[encoded data removed]"
     },
     "metadata": {},
     "output_type": "display_data"
    },
    {
     "name": "stdout",
     "output_type": "stream",
     "text": [
      "Mean feature selection: 0.8970921534605745\n",
      "Mean No feature selection 0.8442160696849709\n",
      "Ttest_relResult(statistic=2.6819372227938185, pvalue=0.025126197578227646)\n"
     ]
    }
   ],
   "source": [
    "test_classifier(bc,X,y)"
   ],
   "metadata": {
    "collapsed": false
   }
  },
  {
   "cell_type": "markdown",
   "source": [
    "NB with features selection perform a f-score that is about 0.89 and the difference between the f-score without features selection is statistically significant"
   ],
   "metadata": {
    "collapsed": false
   }
  },
  {
   "cell_type": "markdown",
   "source": [
    "# ENSEMBLE METHOD"
   ],
   "metadata": {
    "collapsed": false
   }
  },
  {
   "cell_type": "markdown",
   "source": [
    "# Random Forest Classifier"
   ],
   "metadata": {
    "collapsed": false
   }
  },
  {
   "cell_type": "code",
   "execution_count": 39,
   "outputs": [],
   "source": [
    "from sklearn.ensemble import RandomForestClassifier"
   ],
   "metadata": {
    "collapsed": false
   }
  },
  {
   "cell_type": "code",
   "execution_count": 40,
   "outputs": [],
   "source": [
    "rf = RandomForestClassifier(bootstrap=True) # uses bootstrap sample"
   ],
   "metadata": {
    "collapsed": false
   }
  },
  {
   "cell_type": "code",
   "execution_count": 41,
   "outputs": [
    {
     "data": {
      "text/plain": "<Figure size 300x300 with 1 Axes>",
      "image/png": "[encoded data removed]"
     },
     "metadata": {},
     "output_type": "display_data"
    },
    {
     "name": "stdout",
     "output_type": "stream",
     "text": [
      "Mean feature selection: 0.9174716546866327\n",
      "Mean No feature selection 0.8952932335823964\n",
      "Ttest_relResult(statistic=1.4161580604682853, pvalue=0.19039451251781214)\n"
     ]
    }
   ],
   "source": [
    "test_classifier(rf,X,y)\n"
   ],
   "metadata": {
    "collapsed": false
   }
  },
  {
   "cell_type": "markdown",
   "source": [
    "As we can see p-value is very high so we cannot assume that there is statistical significance in the difference of f-score values. So we cannot say that features selection really improve the result of the classification of Random Forest Classifier.\n",
    "Otherwise this classifier performs very well also without features selection, showing an f-score that si about 0.90"
   ],
   "metadata": {
    "collapsed": false
   }
  },
  {
   "cell_type": "markdown",
   "source": [
    "# ADABOOST"
   ],
   "metadata": {
    "collapsed": false
   }
  },
  {
   "cell_type": "code",
   "execution_count": 42,
   "outputs": [],
   "source": [
    "from sklearn.ensemble import AdaBoostClassifier"
   ],
   "metadata": {
    "collapsed": false
   }
  },
  {
   "cell_type": "code",
   "execution_count": 43,
   "outputs": [],
   "source": [
    "ab = AdaBoostClassifier()  #n_estimatore=50 default Decision tree classifier as base estimator"
   ],
   "metadata": {
    "collapsed": false
   }
  },
  {
   "cell_type": "code",
   "execution_count": 44,
   "outputs": [
    {
     "data": {
      "text/plain": "<Figure size 300x300 with 1 Axes>",
      "image/png": "[encoded data removed]"
     },
     "metadata": {},
     "output_type": "display_data"
    },
    {
     "name": "stdout",
     "output_type": "stream",
     "text": [
      "Mean feature selection: 0.9544320085777387\n",
      "Mean No feature selection 0.9974358974358974\n",
      "Ttest_relResult(statistic=-2.9416263253147776, pvalue=0.016443205010309957)\n"
     ]
    }
   ],
   "source": [
    "test_classifier(ab,X,y)"
   ],
   "metadata": {
    "collapsed": false
   }
  },
  {
   "cell_type": "markdown",
   "source": [
    "Adaboost is the most accurate classifier in terms of accuracy and coverage of tuple. 2*(f-score)  = (acc*recall)/(acc+recall)"
   ],
   "metadata": {
    "collapsed": false
   }
  },
  {
   "cell_type": "code",
   "execution_count": null,
   "outputs": [],
   "source": [
    "ab_nbc = AdaBoostClassifier(base_estimator=bc)  #n_estimatore=50 default, Naive Bayesian Classifier as base estimator\n",
    "test_classifier(ab_nbc)"
   ],
   "metadata": {
    "collapsed": false
   }
  },
  {
   "cell_type": "code",
   "execution_count": null,
   "outputs": [],
   "source": [],
   "metadata": {
    "collapsed": false
   }
  },
  {
   "cell_type": "code",
   "execution_count": 45,
   "outputs": [],
   "source": [],
   "metadata": {
    "collapsed": false
   }
  },
  {
   "cell_type": "code",
   "execution_count": 45,
   "outputs": [],
   "source": [],
   "metadata": {
    "collapsed": false
   }
  }
 ],
 "metadata": {
  "kernelspec": {
   "display_name": "Python 3 (ipykernel)",
   "language": "python",
   "name": "python3"
  },
  "language_info": {
   "codemirror_mode": {
    "name": "ipython",
    "version": 3
   },
   "file_extension": ".py",
   "mimetype": "text/x-python",
   "name": "python",
   "nbconvert_exporter": "python",
   "pygments_lexer": "ipython3",
   "version": "3.7.13"
  }
 },
 "nbformat": 4,
 "nbformat_minor": 5
}

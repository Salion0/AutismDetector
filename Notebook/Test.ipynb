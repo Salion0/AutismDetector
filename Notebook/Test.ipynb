{
 "cells": [
  {
   "cell_type": "code",
   "execution_count": 22,
   "metadata": {
    "collapsed": true
   },
   "outputs": [],
   "source": [
    "import pandas as pd\n",
    "import pickle"
   ]
  },
  {
   "cell_type": "code",
   "execution_count": 23,
   "outputs": [
    {
     "data": {
      "text/plain": "     A1_Score  A2_Score  A3_Score  A4_Score  A5_Score  A6_Score  A7_Score  \\\n0           1         1         1         1         0         0         1   \n1           1         1         0         1         0         0         0   \n2           1         1         0         1         1         0         1   \n3           1         1         0         1         0         0         1   \n5           1         1         1         1         1         0         1   \n..        ...       ...       ...       ...       ...       ...       ...   \n698         1         1         1         1         1         1         1   \n699         0         1         0         1         1         0         1   \n700         1         0         0         0         0         0         0   \n702         1         0         0         1         1         0         1   \n703         1         0         1         1         1         0         1   \n\n     A8_Score  A9_Score  A10_Score  ...  Sri Lanka  Sweden  Tonga  Turkey  \\\n0           1         0          0  ...          0       0      0       0   \n1           1         0          1  ...          0       0      0       0   \n2           1         1          1  ...          0       0      0       0   \n3           1         0          1  ...          0       0      0       0   \n5           1         1          1  ...          0       0      0       0   \n..        ...       ...        ...  ...        ...     ...    ...     ...   \n698         1         1          1  ...          0       0      0       0   \n699         1         1          1  ...          0       0      0       0   \n700         1         0          1  ...          0       0      0       0   \n702         0         1          1  ...          0       0      0       0   \n703         1         1          1  ...          0       0      0       0   \n\n     Ukraine  United Arab Emirates  United Kingdom  United States  Uruguay  \\\n0          0                     0               0              1        0   \n1          0                     0               0              0        0   \n2          0                     0               0              0        0   \n3          0                     0               0              1        0   \n5          0                     0               0              1        0   \n..       ...                   ...             ...            ...      ...   \n698        0                     0               0              0        0   \n699        0                     0               0              0        0   \n700        0                     0               0              0        0   \n702        0                     0               0              0        0   \n703        0                     0               0              0        0   \n\n     Viet Nam  \n0           0  \n1           0  \n2           0  \n3           0  \n5           0  \n..        ...  \n698         0  \n699         0  \n700         0  \n702         0  \n703         0  \n\n[608 rows x 84 columns]",
      "text/html": "<div>\n<style scoped>\n    .dataframe tbody tr th:only-of-type {\n        vertical-align: middle;\n    }\n\n    .dataframe tbody tr th {\n        vertical-align: top;\n    }\n\n    .dataframe thead th {\n        text-align: right;\n    }\n</style>\n<table border=\"1\" class=\"dataframe\">\n  <thead>\n    <tr style=\"text-align: right;\">\n      <th></th>\n      <th>A1_Score</th>\n      <th>A2_Score</th>\n      <th>A3_Score</th>\n      <th>A4_Score</th>\n      <th>A5_Score</th>\n      <th>A6_Score</th>\n      <th>A7_Score</th>\n      <th>A8_Score</th>\n      <th>A9_Score</th>\n      <th>A10_Score</th>\n      <th>...</th>\n      <th>Sri Lanka</th>\n      <th>Sweden</th>\n      <th>Tonga</th>\n      <th>Turkey</th>\n      <th>Ukraine</th>\n      <th>United Arab Emirates</th>\n      <th>United Kingdom</th>\n      <th>United States</th>\n      <th>Uruguay</th>\n      <th>Viet Nam</th>\n    </tr>\n  </thead>\n  <tbody>\n    <tr>\n      <th>0</th>\n      <td>1</td>\n      <td>1</td>\n      <td>1</td>\n      <td>1</td>\n      <td>0</td>\n      <td>0</td>\n      <td>1</td>\n      <td>1</td>\n      <td>0</td>\n      <td>0</td>\n      <td>...</td>\n      <td>0</td>\n      <td>0</td>\n      <td>0</td>\n      <td>0</td>\n      <td>0</td>\n      <td>0</td>\n      <td>0</td>\n      <td>1</td>\n      <td>0</td>\n      <td>0</td>\n    </tr>\n    <tr>\n      <th>1</th>\n      <td>1</td>\n      <td>1</td>\n      <td>0</td>\n      <td>1</td>\n      <td>0</td>\n      <td>0</td>\n      <td>0</td>\n      <td>1</td>\n      <td>0</td>\n      <td>1</td>\n      <td>...</td>\n      <td>0</td>\n      <td>0</td>\n      <td>0</td>\n      <td>0</td>\n      <td>0</td>\n      <td>0</td>\n      <td>0</td>\n      <td>0</td>\n      <td>0</td>\n      <td>0</td>\n    </tr>\n    <tr>\n      <th>2</th>\n      <td>1</td>\n      <td>1</td>\n      <td>0</td>\n      <td>1</td>\n      <td>1</td>\n      <td>0</td>\n      <td>1</td>\n      <td>1</td>\n      <td>1</td>\n      <td>1</td>\n      <td>...</td>\n      <td>0</td>\n      <td>0</td>\n      <td>0</td>\n      <td>0</td>\n      <td>0</td>\n      <td>0</td>\n      <td>0</td>\n      <td>0</td>\n      <td>0</td>\n      <td>0</td>\n    </tr>\n    <tr>\n      <th>3</th>\n      <td>1</td>\n      <td>1</td>\n      <td>0</td>\n      <td>1</td>\n      <td>0</td>\n      <td>0</td>\n      <td>1</td>\n      <td>1</td>\n      <td>0</td>\n      <td>1</td>\n      <td>...</td>\n      <td>0</td>\n      <td>0</td>\n      <td>0</td>\n      <td>0</td>\n      <td>0</td>\n      <td>0</td>\n      <td>0</td>\n      <td>1</td>\n      <td>0</td>\n      <td>0</td>\n    </tr>\n    <tr>\n      <th>5</th>\n      <td>1</td>\n      <td>1</td>\n      <td>1</td>\n      <td>1</td>\n      <td>1</td>\n      <td>0</td>\n      <td>1</td>\n      <td>1</td>\n      <td>1</td>\n      <td>1</td>\n      <td>...</td>\n      <td>0</td>\n      <td>0</td>\n      <td>0</td>\n      <td>0</td>\n      <td>0</td>\n      <td>0</td>\n      <td>0</td>\n      <td>1</td>\n      <td>0</td>\n      <td>0</td>\n    </tr>\n    <tr>\n      <th>...</th>\n      <td>...</td>\n      <td>...</td>\n      <td>...</td>\n      <td>...</td>\n      <td>...</td>\n      <td>...</td>\n      <td>...</td>\n      <td>...</td>\n      <td>...</td>\n      <td>...</td>\n      <td>...</td>\n      <td>...</td>\n      <td>...</td>\n      <td>...</td>\n      <td>...</td>\n      <td>...</td>\n      <td>...</td>\n      <td>...</td>\n      <td>...</td>\n      <td>...</td>\n      <td>...</td>\n    </tr>\n    <tr>\n      <th>698</th>\n      <td>1</td>\n      <td>1</td>\n      <td>1</td>\n      <td>1</td>\n      <td>1</td>\n      <td>1</td>\n      <td>1</td>\n      <td>1</td>\n      <td>1</td>\n      <td>1</td>\n      <td>...</td>\n      <td>0</td>\n      <td>0</td>\n      <td>0</td>\n      <td>0</td>\n      <td>0</td>\n      <td>0</td>\n      <td>0</td>\n      <td>0</td>\n      <td>0</td>\n      <td>0</td>\n    </tr>\n    <tr>\n      <th>699</th>\n      <td>0</td>\n      <td>1</td>\n      <td>0</td>\n      <td>1</td>\n      <td>1</td>\n      <td>0</td>\n      <td>1</td>\n      <td>1</td>\n      <td>1</td>\n      <td>1</td>\n      <td>...</td>\n      <td>0</td>\n      <td>0</td>\n      <td>0</td>\n      <td>0</td>\n      <td>0</td>\n      <td>0</td>\n      <td>0</td>\n      <td>0</td>\n      <td>0</td>\n      <td>0</td>\n    </tr>\n    <tr>\n      <th>700</th>\n      <td>1</td>\n      <td>0</td>\n      <td>0</td>\n      <td>0</td>\n      <td>0</td>\n      <td>0</td>\n      <td>0</td>\n      <td>1</td>\n      <td>0</td>\n      <td>1</td>\n      <td>...</td>\n      <td>0</td>\n      <td>0</td>\n      <td>0</td>\n      <td>0</td>\n      <td>0</td>\n      <td>0</td>\n      <td>0</td>\n      <td>0</td>\n      <td>0</td>\n      <td>0</td>\n    </tr>\n    <tr>\n      <th>702</th>\n      <td>1</td>\n      <td>0</td>\n      <td>0</td>\n      <td>1</td>\n      <td>1</td>\n      <td>0</td>\n      <td>1</td>\n      <td>0</td>\n      <td>1</td>\n      <td>1</td>\n      <td>...</td>\n      <td>0</td>\n      <td>0</td>\n      <td>0</td>\n      <td>0</td>\n      <td>0</td>\n      <td>0</td>\n      <td>0</td>\n      <td>0</td>\n      <td>0</td>\n      <td>0</td>\n    </tr>\n    <tr>\n      <th>703</th>\n      <td>1</td>\n      <td>0</td>\n      <td>1</td>\n      <td>1</td>\n      <td>1</td>\n      <td>0</td>\n      <td>1</td>\n      <td>1</td>\n      <td>1</td>\n      <td>1</td>\n      <td>...</td>\n      <td>0</td>\n      <td>0</td>\n      <td>0</td>\n      <td>0</td>\n      <td>0</td>\n      <td>0</td>\n      <td>0</td>\n      <td>0</td>\n      <td>0</td>\n      <td>0</td>\n    </tr>\n  </tbody>\n</table>\n<p>608 rows × 84 columns</p>\n</div>"
     },
     "execution_count": 23,
     "metadata": {},
     "output_type": "execute_result"
    }
   ],
   "source": [
    "df = pd.read_csv(\"preprocessed_notna_dataset.csv\",index_col=0)\n",
    "df.drop(inplace=True,axis=1,labels=\"Class/ASD\")\n",
    "df\n"
   ],
   "metadata": {
    "collapsed": false
   }
  },
  {
   "cell_type": "code",
   "execution_count": 24,
   "outputs": [
    {
     "data": {
      "text/plain": "['A1_Score',\n 'A2_Score',\n 'A3_Score',\n 'A4_Score',\n 'A5_Score',\n 'A6_Score',\n 'A7_Score',\n 'A8_Score',\n 'A9_Score',\n 'A10_Score',\n 'age',\n 'gender',\n 'jaundice',\n 'family member with PDD',\n 'Asian',\n 'Black',\n 'Hispanic',\n 'Latino',\n 'Middle Eastern ',\n 'Others',\n 'Pasifika',\n 'South Asian',\n 'Turkish',\n 'White-European',\n 'Afghanistan',\n 'AmericanSamoa',\n 'Angola',\n 'Armenia',\n 'Aruba',\n 'Australia',\n 'Austria',\n 'Bahamas',\n 'Bangladesh',\n 'Belgium',\n 'Bolivia',\n 'Brazil',\n 'Burundi',\n 'Canada',\n 'Chile',\n 'China',\n 'Costa Rica',\n 'Cyprus',\n 'Czech Republic',\n 'Ecuador',\n 'Egypt',\n 'Ethiopia',\n 'Finland',\n 'France',\n 'Germany',\n 'Iceland',\n 'India',\n 'Indonesia',\n 'Iran',\n 'Ireland',\n 'Italy',\n 'Jordan',\n 'Malaysia',\n 'Mexico',\n 'Nepal',\n 'Netherlands',\n 'New Zealand',\n 'Nicaragua',\n 'Niger',\n 'Oman',\n 'Pakistan',\n 'Philippines',\n 'Portugal',\n 'Romania',\n 'Russia',\n 'Saudi Arabia',\n 'Serbia',\n 'Sierra Leone',\n 'South Africa',\n 'Spain',\n 'Sri Lanka',\n 'Sweden',\n 'Tonga',\n 'Turkey',\n 'Ukraine',\n 'United Arab Emirates',\n 'United Kingdom',\n 'United States',\n 'Uruguay',\n 'Viet Nam']"
     },
     "execution_count": 24,
     "metadata": {},
     "output_type": "execute_result"
    }
   ],
   "source": [
    "\n",
    "array = []\n",
    "for column in df.columns:\n",
    "    array.append(column)\n",
    "\n",
    "array"
   ],
   "metadata": {
    "collapsed": false
   }
  },
  {
   "cell_type": "code",
   "execution_count": 26,
   "outputs": [],
   "source": [
    "array_file = open(\"column\",\"wb\")\n",
    "pickle.dump(array,array_file)"
   ],
   "metadata": {
    "collapsed": false
   }
  },
  {
   "cell_type": "code",
   "execution_count": 25,
   "outputs": [],
   "source": [],
   "metadata": {
    "collapsed": false
   }
  }
 ],
 "metadata": {
  "kernelspec": {
   "display_name": "Python 3",
   "language": "python",
   "name": "python3"
  },
  "language_info": {
   "codemirror_mode": {
    "name": "ipython",
    "version": 2
   },
   "file_extension": ".py",
   "mimetype": "text/x-python",
   "name": "python",
   "nbconvert_exporter": "python",
   "pygments_lexer": "ipython2",
   "version": "2.7.6"
  }
 },
 "nbformat": 4,
 "nbformat_minor": 0
}
